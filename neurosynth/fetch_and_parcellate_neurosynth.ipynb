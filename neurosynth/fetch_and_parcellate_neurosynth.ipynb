{
 "cells": [
  {
   "cell_type": "markdown",
   "metadata": {
    "id": "TCx8_PJhUluy"
   },
   "source": [
    "# Fetch and Parcellate Neurosynth Meta-Analyses (for 123 cognitive atlas terms)\n",
    "\n",
    "This notebook is adapted from [Justine Hansen's tutorial]('https://github.com/netneurolab/ipn-summer-school/blob/main/lectures/2021-07-02/13-15/fetch_and_parcellate_neurosynth.ipynb') for fetching and parcellating Neurosynth terms. *Note that Neurosynth's package is now deprecated, so all of this code has been refactored using NiMARE!*\n",
    "\n",
    "Script for fetching and parcellating Neurosynth meta-analyses (association tests) for 123 cognitive atlas terms. Terms will be parcellated according to the 200-node Schaefer 2018 7-network and 360-node Glasser (HCP-MMP) parcellations.\n",
    "\n",
    "This notebook will take approximately 25 minutes to run."
   ]
  },
  {
   "cell_type": "code",
   "execution_count": null,
   "metadata": {},
   "outputs": [],
   "source": [
    "\n",
    "\"\"\"\n",
    "Script for performing NeuroSynth-style meta-analyses for all available\n",
    "Cognitive Atlas concepts. Script modified from https://github.com/netneurolab/\n",
    "markello_spatialnulls/blob/master/scripts/empirical/fetch_neurosynth_maps.py,\n",
    "for the IPN Summer School > Quantitative and Computational Neuroscience >\n",
    "Advanced Analytics for Neuroscience > Contextualizing Results lecture.\n",
    "\"\"\"\n",
    "\n",
    "!pip install nilearn\n",
    "!pip install --upgrade scipy matplotlib pandas\n",
    "!pip install nibabel ply\n",
    "!pip install nimare # now using nimare to access neurosynth database due to neurosynth deprecation\n",
    "!pip install hcp_utils\n",
    "!pip install numpy==1.24 # need 1.24 for NiMARE\n",
    "!pip install chardet\n",
    "!pip install charset-normalizer\n",
    "!pip install Bio\n",
    "!pip install nltools\n",
    "\n",
    "!pip install netneurotools\n"
   ]
  },
  {
   "cell_type": "markdown",
   "metadata": {
    "id": "QfZgYGMEU1Nr"
   },
   "source": [
    "Import stuff.\n",
    "If you run into errors, check if you need to `!pip install --upgrade` or `pip install`. \n",
    "(You shouldn't, but who knows.)\n",
    " "
   ]
  },
  {
   "cell_type": "code",
   "execution_count": 1,
   "metadata": {
    "colab": {
     "base_uri": "https://localhost:8080/",
     "height": 35
    },
    "id": "0c-XzsFs41E7",
    "outputId": "1f799aa7-afec-4e41-a33e-28b24ff5f8fd",
    "tags": []
   },
   "outputs": [
    {
     "data": {
      "text/plain": [
       "'2.0.3'"
      ]
     },
     "execution_count": 1,
     "metadata": {},
     "output_type": "execute_result"
    }
   ],
   "source": [
    "import pandas as pd\n",
    "pd.__version__"
   ]
  },
  {
   "cell_type": "code",
   "execution_count": 2,
   "metadata": {
    "tags": []
   },
   "outputs": [
    {
     "data": {
      "text/plain": [
       "'1.10.1'"
      ]
     },
     "execution_count": 2,
     "metadata": {},
     "output_type": "execute_result"
    }
   ],
   "source": [
    "import scipy\n",
    "scipy.__version__"
   ]
  },
  {
   "cell_type": "code",
   "execution_count": 3,
   "metadata": {
    "tags": []
   },
   "outputs": [
    {
     "data": {
      "text/plain": [
       "'1.24.0'"
      ]
     },
     "execution_count": 3,
     "metadata": {},
     "output_type": "execute_result"
    }
   ],
   "source": [
    "import numpy as np\n",
    "np.__version__ # we want 1.24.0 for NiMARE"
   ]
  },
  {
   "cell_type": "code",
   "execution_count": 4,
   "metadata": {
    "tags": []
   },
   "outputs": [],
   "source": [
    "import gzip\n",
    "import pickle"
   ]
  },
  {
   "cell_type": "code",
   "execution_count": 5,
   "metadata": {
    "colab": {
     "base_uri": "https://localhost:8080/"
    },
    "id": "r3FWTlVRUVOz",
    "outputId": "44b722e6-bbca-40f6-a6d2-5b3004d48e68",
    "tags": []
   },
   "outputs": [
    {
     "name": "stderr",
     "output_type": "stream",
     "text": [
      "pixdim[1,2,3] should be non-zero; setting 0 dims to 1\n",
      "WARNING:nibabel.global:pixdim[1,2,3] should be non-zero; setting 0 dims to 1\n",
      "/Users/audluo/anaconda3/envs/tractmaps/lib/python3.8/site-packages/nilearn/input_data/__init__.py:23: FutureWarning: The import path 'nilearn.input_data' is deprecated in version 0.9. Importing from 'nilearn.input_data' will be possible at least until release 0.13.0. Please import from 'nilearn.maskers' instead.\n",
      "  warnings.warn(message, FutureWarning)\n"
     ]
    }
   ],
   "source": [
    "import Bio \n",
    "import contextlib\n",
    "import hcp_utils as hcp\n",
    "#from hcp_utils import atlas\n",
    "\n",
    "import json\n",
    "from nilearn.input_data import NiftiLabelsMasker\n",
    "from nilearn._utils import check_niimg\n",
    "from nilearn import datasets, image, plotting\n",
    "from nilearn.datasets import fetch_atlas_schaefer_2018\n",
    "from nimare.extract import download_abstracts, fetch_neuroquery, fetch_neurosynth\n",
    "from nimare.io import convert_neurosynth_to_dataset\n",
    "from nimare.correct import FDRCorrector\n",
    "from nimare.dataset import Dataset\n",
    "from nimare.meta.cbma.mkda import MKDAChi2\n",
    "#from nltools import Brain_Data\n",
    "from neuromaps import images, datasets, images, nulls, resampling, stats, transforms\n",
    "from neuromaps.datasets import fetch_annotation\n",
    "\n",
    "\n",
    "import os\n",
    "import pandas as pd\n",
    "from pathlib import Path\n",
    "from pprint import pprint\n",
    "import requests\n",
    "import re\n",
    "from scipy import sparse\n",
    "import warnings"
   ]
  },
  {
   "cell_type": "markdown",
   "metadata": {
    "id": "lnBInV2AVIV4"
   },
   "source": [
    "Some directory set-up and warning ignoring."
   ]
  },
  {
   "cell_type": "code",
   "execution_count": 6,
   "metadata": {
    "tags": []
   },
   "outputs": [],
   "source": [
    "warnings.filterwarnings('ignore', category=FutureWarning)\n",
    "warnings.filterwarnings('ignore', category=RuntimeWarning)\n",
    "\n",
    "# this is where the raw and parcellated data will be stored\n",
    "NSDIR = Path('./data/raw/neurosynth').resolve()\n",
    "PARDIR = Path('./data/derivatives').resolve()\n",
    "\n",
    "# these are the images from the neurosynth-style NiMARE analyses we'll save\n",
    "IMAGES = ['z_desc-specificity_level-voxel_corr-FDR_method-indep']"
   ]
  },
  {
   "cell_type": "markdown",
   "metadata": {
    "id": "F9e8KUXLVOU7"
   },
   "source": [
    "All the functions!"
   ]
  },
  {
   "cell_type": "code",
   "execution_count": 7,
   "metadata": {
    "id": "_ukJcuJ2UeFZ",
    "tags": []
   },
   "outputs": [],
   "source": [
    "def get_cogatlas_concepts(url=None):\n",
    "    \"\"\" Fetches list of concepts from the Cognitive Atlas\n",
    "    Parameters\n",
    "    ----------\n",
    "    url : str\n",
    "        URL to Cognitive Atlas API\n",
    "    Returns\n",
    "    -------\n",
    "    concepts : set\n",
    "        Unordered set of terms\n",
    "    \"\"\"\n",
    "\n",
    "    if url is None:\n",
    "        url = 'https://cognitiveatlas.org/api/v-alpha/concept'\n",
    "\n",
    "    req = requests.get(url)\n",
    "    req.raise_for_status()\n",
    "    concepts = set([f.get('name') for f in json.loads(req.content)])\n",
    "\n",
    "    return concepts\n",
    "\n",
    "\n",
    "def fetch_ns_data(directory): # may delete or completely change \n",
    "    \"\"\" Fetches NeuroSynth database   \n",
    "    Parameters\n",
    "    -----------\n",
    "    directory : str or os.PathLike\n",
    "        Path to directory where data should be saved\n",
    "    Returns\n",
    "    -------\n",
    "    database, features : PathLike\n",
    "        Paths to downloaded NS data\n",
    "    \"\"\"\n",
    "\n",
    "    directory = Path(directory)\n",
    "\n",
    "    # NS data should already be downloaded using NiMARE\n",
    "    database, features = directory / 'database.txt', directory / 'features.txt'\n",
    "    return database, features\n",
    "\n",
    "\n",
    "def run_meta_analyses(database, use_features=None, outdir=None):\n",
    "    \"\"\"\n",
    "    Runs NiMARE-style meta-analysis based on `database` and `features`\n",
    "    Parameters\n",
    "    ----------\n",
    "    database, features : str or os.PathLike\n",
    "        Path to NS-style database.txt and features.txt files\n",
    "    use_features : list, optional\n",
    "        List of features on which to run NS meta-analyses; if not supplied all\n",
    "        terms in `features` will be used\n",
    "    outdir : str or os.PathLike\n",
    "        Path to output directory where derived files should be saved\n",
    "    Returns\n",
    "    -------\n",
    "    generated : list of str\n",
    "        List of filepaths to generated term meta-analysis directories\n",
    "    \"\"\"\n",
    "\n",
    "    # check outdir\n",
    "    if outdir is None:\n",
    "        outdir = NSDIR\n",
    "    outdir = Path(outdir)\n",
    "    \n",
    "    # NiMARE database should already be made\n",
    "    # Load feature names \n",
    "    all_labels = set(database.get_labels())\n",
    "    stripped_labels = [f.replace(\"terms_abstract_tfidf__\", \"\") for f in all_labels] \n",
    "    features = stripped_labels\n",
    "    \n",
    "    # if we only want a subset of the features take the set intersection\n",
    "    if use_features is not None:\n",
    "        features = set(stripped_labels) & set(use_features)\n",
    "        prefixed_features = set(\"terms_abstract_tfidf__\" + feature for feature in features)    \n",
    "    pad = max([len(f) for f in features])\n",
    "\n",
    "    generated = []\n",
    "    for label in sorted(prefixed_features): # label = 'terms_abstract_tfidf__'+ cognitive term\n",
    "        word = label[len(\"terms_abstract_tfidf__\"):] # the cognitive term\n",
    "        word = word.replace(' ', '_')\n",
    "        msg = f'Running meta-analysis for term: {word:<{pad}}'\n",
    "        print(msg, end='\\r', flush=True)\n",
    "\n",
    "        # run meta-analysis + save specified outputs (only if they don't exist)\n",
    "        path = outdir / word.replace(' ', '_')\n",
    "        path.mkdir(exist_ok=True)\n",
    "        if not all((path / f'{f}.nii.gz').exists() for f in IMAGES):\n",
    "            # get list of ids for each term of interest \n",
    "            selected_ids = []\n",
    "            ids = database.get_studies_by_label(label, 0.05)\n",
    "            selected_ids += ids\n",
    "\n",
    "            # Select studies with term of interest\n",
    "            # Note: dset_sel includes datasets that have the term in cogatlas_concepts, \n",
    "            # but these same datasets may also have additional terms/features\n",
    "            dset_sel = database.slice(selected_ids) \n",
    "\n",
    "            # Select studies without term of interest\n",
    "            no_term_ids = list(set(database.ids).difference(selected_ids))\n",
    "            dset_unsel = database.slice(no_term_ids)\n",
    "            \n",
    "            # Do Multilevel kernel density analysis- Chi-square analysis \n",
    "            # (NiMARE's estimator that matches Neurosynth's MetaAanalysis class)\n",
    "            mkda = MKDAChi2(kernel__r=10)\n",
    "            results = mkda.fit(dset_sel, dset_unsel)\n",
    "            \n",
    "            # FDR correction\n",
    "            corr = FDRCorrector(method=\"indep\", alpha=0.05)\n",
    "            cres = corr.transform(results)\n",
    "            \n",
    "            # save out specificity z-value map \n",
    "            cres.save_maps(path, names = [\"z_desc-specificity_level-voxel_corr-FDR_method-indep\"])\n",
    "\n",
    "        # store MA path\n",
    "        generated.append(path)\n",
    "\n",
    "    print(' ' * len(msg) + '\\b' * len(msg), end='', flush=True)\n",
    "\n",
    "    return generated\n",
    "\n",
    " \n",
    "def apply_transformation(input_img_path):\n",
    "    # use neuromaps function to transform volumetric to surface space\n",
    "    fslr = transforms.mni152_to_fslr(input_img_path, '32k')\n",
    "    fslr_lh, fslr_rh = fslr\n",
    "    return fslr\n",
    "\n",
    " \n",
    "def parcellate_meta(outputs, annots, fname, regions):\n",
    "    # empty dataframe to hold our parcellated data\n",
    "    data = pd.DataFrame(index=regions)\n",
    "    mask = NiftiLabelsMasker(annots, resampling_target='data')\n",
    "\n",
    "    for outdir in outputs:\n",
    "        cdata = []\n",
    "        mgh = outdir / 'z_desc-specificity_level-voxel_corr-FDR_method-indep.nii.gz'\n",
    "\n",
    "        cdata.append(mask.fit_transform(\n",
    "            check_niimg(mgh.__str__(), atleast_4d=True)).squeeze())\n",
    "\n",
    "        # store it in the dataframe\n",
    "        data = data.assign(**{outdir.name: np.hstack(cdata)})\n",
    "\n",
    "    # now we save the dataframe! wooo data!\n",
    "    data.to_csv(fname, sep=',')\n",
    "    return fname"
   ]
  },
  {
   "cell_type": "markdown",
   "metadata": {},
   "source": [
    "Download NeuroSynth using NiMARE functions. Neurosynth’s data files are stored at https://github.com/neurosynth/neurosynth-data.\n"
   ]
  },
  {
   "cell_type": "code",
   "execution_count": 8,
   "metadata": {
    "tags": []
   },
   "outputs": [
    {
     "name": "stdout",
     "output_type": "stream",
     "text": [
      "Downloading data-neurosynth_version-7_coordinates.tsv.gz\n",
      "File exists and overwrite is False. Skipping.\n",
      "Downloading data-neurosynth_version-7_metadata.tsv.gz\n",
      "File exists and overwrite is False. Skipping.\n",
      "Downloading data-neurosynth_version-7_vocab-terms_source-abstract_type-tfidf_features.npz\n",
      "File exists and overwrite is False. Skipping.\n",
      "Downloading data-neurosynth_version-7_vocab-terms_vocabulary.txt\n",
      "File exists and overwrite is False. Skipping.\n",
      "[{'coordinates': '/Users/audluo/PennLINC/tractmaps/tractmaps/neurosynth/data/raw/neurosynth/data-neurosynth_version-7_coordinates.tsv.gz',\n",
      "  'features': [{'features': '/Users/audluo/PennLINC/tractmaps/tractmaps/neurosynth/data/raw/neurosynth/data-neurosynth_version-7_vocab-terms_source-abstract_type-tfidf_features.npz',\n",
      "                'vocabulary': '/Users/audluo/PennLINC/tractmaps/tractmaps/neurosynth/data/raw/neurosynth/data-neurosynth_version-7_vocab-terms_vocabulary.txt'}],\n",
      "  'metadata': '/Users/audluo/PennLINC/tractmaps/tractmaps/neurosynth/data/raw/neurosynth/data-neurosynth_version-7_metadata.tsv.gz'}]\n"
     ]
    }
   ],
   "source": [
    "out_dir = os.path.abspath(\"./data/raw\")\n",
    "os.makedirs(out_dir, exist_ok=True)\n",
    "\n",
    "files = fetch_neurosynth(\n",
    "    data_dir=out_dir,\n",
    "    version=\"7\",\n",
    "    overwrite=False,\n",
    "    source=\"abstract\",\n",
    "    vocab=\"terms\",\n",
    ")\n",
    "# Note that the files are saved to a new folder within \"out_dir\" named \"neurosynth\".\n",
    "pprint(files)\n",
    "neurosynth_db = files[0]"
   ]
  },
  {
   "cell_type": "markdown",
   "metadata": {
    "id": "_07NHNTDVQwf"
   },
   "source": [
    "Convert Neurosynth database to NiMARE dataset file."
   ]
  },
  {
   "cell_type": "code",
   "execution_count": null,
   "metadata": {
    "tags": []
   },
   "outputs": [],
   "source": [
    "neurosynth_dset = convert_neurosynth_to_dataset(\n",
    "    coordinates_file=neurosynth_db[\"coordinates\"],\n",
    "    metadata_file=neurosynth_db[\"metadata\"],\n",
    "    annotations_files=neurosynth_db[\"features\"],\n",
    ")\n",
    "neurosynth_dset.save(os.path.join(NSDIR, \"neurosynth_dataset.pkl.gz\"))\n",
    "print(neurosynth_dset)\n",
    "\n",
    "neurosynth_dset = download_abstracts(neurosynth_dset, \"audrey.luo@pennmedicine.upenn.edu\")\n",
    "neurosynth_dset.save(os.path.join(NSDIR, \"neurosynth_dataset_with_abstracts.pkl.gz\"))"
   ]
  },
  {
   "cell_type": "markdown",
   "metadata": {},
   "source": [
    "Run meta-analysis!"
   ]
  },
  {
   "cell_type": "code",
   "execution_count": 9,
   "metadata": {
    "tags": []
   },
   "outputs": [
    {
     "name": "stdout",
     "output_type": "stream",
     "text": [
      "                                                       "
     ]
    }
   ],
   "source": [
    "with gzip.open(os.path.join(NSDIR, \"neurosynth_dataset_with_abstracts.pkl.gz\"), 'rb') as f:\n",
    "    neurosynth_dset = pickle.load(f)\n",
    "    \n",
    "NSDIR.mkdir(parents=True, exist_ok=True)\n",
    "PARDIR.mkdir(parents=True, exist_ok=True)\n",
    "\n",
    "# get concepts from CogAtlas and run relevant NS meta-analysess,\n",
    "\n",
    "generated = run_meta_analyses(neurosynth_dset, get_cogatlas_concepts())\n"
   ]
  },
  {
   "cell_type": "code",
   "execution_count": 56,
   "metadata": {
    "tags": []
   },
   "outputs": [
    {
     "data": {
      "text/plain": [
       "[PosixPath('/Users/audluo/PennLINC/tractmaps/tractmaps/neurosynth/data/raw/neurosynth/adaptation'),\n",
       " PosixPath('/Users/audluo/PennLINC/tractmaps/tractmaps/neurosynth/data/raw/neurosynth/addiction'),\n",
       " PosixPath('/Users/audluo/PennLINC/tractmaps/tractmaps/neurosynth/data/raw/neurosynth/anticipation'),\n",
       " PosixPath('/Users/audluo/PennLINC/tractmaps/tractmaps/neurosynth/data/raw/neurosynth/anxiety'),\n",
       " PosixPath('/Users/audluo/PennLINC/tractmaps/tractmaps/neurosynth/data/raw/neurosynth/arousal'),\n",
       " PosixPath('/Users/audluo/PennLINC/tractmaps/tractmaps/neurosynth/data/raw/neurosynth/association'),\n",
       " PosixPath('/Users/audluo/PennLINC/tractmaps/tractmaps/neurosynth/data/raw/neurosynth/attention'),\n",
       " PosixPath('/Users/audluo/PennLINC/tractmaps/tractmaps/neurosynth/data/raw/neurosynth/autobiographical_memory')]"
      ]
     },
     "execution_count": 56,
     "metadata": {},
     "output_type": "execute_result"
    }
   ],
   "source": []
  },
  {
   "cell_type": "code",
   "execution_count": 10,
   "metadata": {
    "tags": []
   },
   "outputs": [],
   "source": [
    "# Function to modify the path\n",
    "def modify_path(path):\n",
    "    return path.parent.parent / 'neurosynth' / path.name\n",
    "\n",
    "# Create a new list of modified path\n",
    "modified_paths = [Path(modify_path(path)) for path in generated]\n",
    "\n"
   ]
  },
  {
   "cell_type": "code",
   "execution_count": 10,
   "metadata": {
    "tags": []
   },
   "outputs": [
    {
     "ename": "NameError",
     "evalue": "name 'nib' is not defined",
     "output_type": "error",
     "traceback": [
      "\u001b[0;31m---------------------------------------------------------------------------\u001b[0m",
      "\u001b[0;31mNameError\u001b[0m                                 Traceback (most recent call last)",
      "Cell \u001b[0;32mIn[10], line 22\u001b[0m\n\u001b[1;32m     20\u001b[0m \u001b[38;5;66;03m# Save the transformed image \u001b[39;00m\n\u001b[1;32m     21\u001b[0m \u001b[38;5;28;01mfor\u001b[39;00m gifti_image, output_file \u001b[38;5;129;01min\u001b[39;00m \u001b[38;5;28mzip\u001b[39m(transformed_img, output_files):\n\u001b[0;32m---> 22\u001b[0m     \u001b[43mnib\u001b[49m\u001b[38;5;241m.\u001b[39msave(gifti_image, os\u001b[38;5;241m.\u001b[39mpath\u001b[38;5;241m.\u001b[39mjoin(folder_path, output_file))\n\u001b[1;32m     23\u001b[0m     \u001b[38;5;28mprint\u001b[39m(\u001b[38;5;124mf\u001b[39m\u001b[38;5;124m\"\u001b[39m\u001b[38;5;124mGiftiImage saved to \u001b[39m\u001b[38;5;132;01m{\u001b[39;00mfolder_path\u001b[38;5;132;01m}\u001b[39;00m\u001b[38;5;124m\"\u001b[39m)\n",
      "\u001b[0;31mNameError\u001b[0m: name 'nib' is not defined"
     ]
    }
   ],
   "source": [
    "\n",
    "\n",
    "metaanalyses_dir = \"/Users/audluo/PennLINC/tractmaps/tractmaps/neurosynth/data/raw/neurosynth\"\n",
    "\n",
    " \n",
    "\n",
    "for folder_name in os.listdir(metaanalyses_dir):\n",
    "    folder_path = os.path.join(metaanalyses_dir, folder_name)\n",
    "    if os.path.isdir(folder_path):\n",
    "        # Iterate through files in the subfolder\n",
    "        for filename in os.listdir(folder_path):\n",
    "            if filename.endswith(\".nii.gz\"):\n",
    "                # Construct the full path to the NIfTI file\n",
    "                nii_path = os.path.join(folder_path, filename)\n",
    "                \n",
    "                # Apply the transformation function\n",
    "                transformed_img = apply_transformation(nii_path)\n",
    "            \n",
    "                # Define output gifti\n",
    "                output_files = (\"output_file_lh.shape.gii\", \"output_file_rh.shape.gii\") \n",
    "                \n",
    "                # Save the transformed image \n",
    "                for gifti_image, output_file in zip(transformed_img, output_files):\n",
    "                    nib.save(gifti_image, os.path.join(folder_path, output_file))\n",
    "                    print(f\"GiftiImage saved to {folder_path}\")"
   ]
  },
  {
   "cell_type": "code",
   "execution_count": 85,
   "metadata": {
    "tags": []
   },
   "outputs": [
    {
     "data": {
      "image/png": "[encoded data removed]",
      "text/plain": [
       "<Figure size 400x400 with 1 Axes>"
      ]
     },
     "execution_count": 85,
     "metadata": {},
     "output_type": "execute_result"
    },
    {
     "data": {
      "image/png": "[encoded data removed]",
      "text/plain": [
       "<Figure size 400x400 with 1 Axes>"
      ]
     },
     "metadata": {},
     "output_type": "display_data"
    }
   ],
   "source": [
    "import hcp_utils as hcp # install hcp_utils in your virtual conda environment prior to this\n",
    "import nilearn.plotting as plotting\n",
    "\n",
    "plotting.plot_surf(surf_mesh = hcp.mesh.inflated_left, surf_map = fslr_lh.agg_data())"
   ]
  },
  {
   "cell_type": "code",
   "execution_count": 17,
   "metadata": {
    "tags": []
   },
   "outputs": [
    {
     "data": {
      "text/plain": [
       "PosixPath('/Users/audluo/PennLINC/tractmaps/tractmaps/neurosynth/data/derivatives/atl-schaefer2018_res-200_neurosynth.csv')"
      ]
     },
     "execution_count": 17,
     "metadata": {},
     "output_type": "execute_result"
    }
   ],
   "source": [
    "# schaefer 200\n",
    "# note that it's easy to parcellate schaefer since the atlas is in MNI space just like the meta-analysis output\n",
    "\n",
    "# get parcellations that we'll use to parcellate data\n",
    "schaefer = fetch_atlas_schaefer_2018(n_rois=200, resolution_mm=2)\n",
    "labels = []\n",
    "for i in range(len(schaefer['labels'])):\n",
    "    labels.append(schaefer['labels'][i].decode(\"utf-8\"))\n",
    "\n",
    "# parcellate data and save to directory\n",
    "parcellate_meta(modified_paths, schaefer['maps'],\n",
    "                PARDIR / 'atl-schaefer2018_res-200_neurosynth.csv',\n",
    "                regions=labels)\n",
    "        "
   ]
  },
  {
   "cell_type": "markdown",
   "metadata": {},
   "source": [
    "Use neuromaps to convert all z-score maps (.nii.gz) to surface space"
   ]
  },
  {
   "cell_type": "code",
   "execution_count": 53,
   "metadata": {
    "tags": []
   },
   "outputs": [],
   "source": [
    "from neuromaps.datasets import fetch_annotation\n",
    "\n",
    "neurosynth = '/Users/audluo/PennLINC/tractmaps/tractmaps/neurosynth/data/raw/neurosynth/visual_perception/z_desc-specificity_level-voxel_corr-FDR_method-indep.nii.gz'"
   ]
  },
  {
   "cell_type": "code",
   "execution_count": 12,
   "metadata": {
    "tags": []
   },
   "outputs": [
    {
     "data": {
      "text/plain": [
       "'/Users/audluo/PennLINC/tractmaps/tractmaps/neurosynth/data/raw/neurosynth/working_memory/z_desc-specificity_level-voxel_corr-FDR_method-indep.nii.gz'"
      ]
     },
     "execution_count": 12,
     "metadata": {},
     "output_type": "execute_result"
    }
   ],
   "source": [
    "neurosynth "
   ]
  },
  {
   "cell_type": "code",
   "execution_count": 54,
   "metadata": {
    "tags": []
   },
   "outputs": [],
   "source": [
    "fslr = transforms.mni152_to_fslr(neurosynth, '32k')\n",
    "fslr_lh, fslr_rh = fslr"
   ]
  },
  {
   "cell_type": "code",
   "execution_count": 14,
   "metadata": {
    "tags": []
   },
   "outputs": [
    {
     "name": "stdout",
     "output_type": "stream",
     "text": [
      "(<nibabel.gifti.gifti.GiftiImage object at 0x117ef6910>, <nibabel.gifti.gifti.GiftiImage object at 0x298c11820>)\n"
     ]
    }
   ],
   "source": [
    "print(fslr)"
   ]
  },
  {
   "cell_type": "code",
   "execution_count": 55,
   "metadata": {
    "tags": []
   },
   "outputs": [
    {
     "name": "stdout",
     "output_type": "stream",
     "text": [
      "GiftiImage saved to output_file_lh.shape.gii\n",
      "GiftiImage saved to output_file_rh.shape.gii\n"
     ]
    }
   ],
   "source": [
    "\n",
    "# Specify the output file names for each gifti\n",
    "out_dir = '/Users/audluo/PennLINC/tractmaps/tractmaps/neurosynth/data/raw/neurosynth/visual_perception/'\n",
    "output_files = (\"output_file_lh.shape.gii\", \"output_file_rh.shape.gii\")   \n",
    "\n",
    "for gifti_image, output_file in zip(fslr, output_files):\n",
    "    nib.save(gifti_image, os.path.join(out_dir, output_file))\n",
    "    print(f\"GiftiImage saved to {output_file}\")"
   ]
  },
  {
   "cell_type": "code",
   "execution_count": 18,
   "metadata": {
    "tags": []
   },
   "outputs": [
    {
     "data": {
      "text/plain": [
       "'/Users/audluo/nilearn_data/schaefer_2018/Schaefer2018_200Parcels_7Networks_order_FSLMNI152_2mm.nii.gz'"
      ]
     },
     "execution_count": 18,
     "metadata": {},
     "output_type": "execute_result"
    }
   ],
   "source": [
    "# may not use\n",
    "\n",
    "# parcellate data and save to directory\n",
    "parcellate_meta(modified_paths[1:3], glasser_atlas,\n",
    "                PARDIR / 'atl-glasser_hcp.mmp_neurosynth.csv',\n",
    "                regions=glasser_labels)"
   ]
  },
  {
   "cell_type": "code",
   "execution_count": 194,
   "metadata": {
    "tags": []
   },
   "outputs": [
    {
     "data": {
      "text/plain": [
       "<bound method BaseEstimator.get_params of NiftiLabelsMasker(labels_img='/Users/audluo/nilearn_data/schaefer_2018/Schaefer2018_200Parcels_7Networks_order_FSLMNI152_2mm.nii.gz')>"
      ]
     },
     "execution_count": 194,
     "metadata": {},
     "output_type": "execute_result"
    }
   ],
   "source": [
    "outputs = modified_paths[1:3]\n",
    "annots = schaefer['maps']\n",
    "fname = PARDIR / 'atl-glasser_hcp.mmp_neurosynth_TEST.csv',\n",
    "regions = glasser_labels\n",
    "\n",
    "#def parcellate_meta(outputs, annots, fname, regions):\n",
    "# empty dataframe to hold our parcellated data\n",
    "data = pd.DataFrame(index=regions)\n",
    "mask = NiftiLabelsMasker(annots, resampling_target='data') # seems to get the timeseries data or something\n",
    "\n",
    "\n",
    "outdir = outputs[1]\n",
    "\n",
    "cdata = []\n",
    "mgh = outdir / 'z_desc-specificity_level-voxel_corr-FDR_method-indep.nii.gz'\n",
    "\n",
    "cdata.append(mask.fit_transform(check_niimg(mgh.__str__(), atleast_4d=True)).squeeze())\n",
    "\n",
    "mask.fit_transform(check_niimg(mgh.__str__(), atleast_4d=True)).squeeze() # fits mask to input data, aka the neurosynth \n",
    "\n",
    " \n",
    " "
   ]
  },
  {
   "cell_type": "markdown",
   "metadata": {
    "id": "K26zqsmFVSwE"
   },
   "source": [
    "Download the parcellated `.csv` to upload back into your drive.\n",
    "Note you can also download the raw volumetric images from `./data/raw/neurosynth/term-of-interest/association-test_z.nii.gz`"
   ]
  }
 ],
 "metadata": {
  "colab": {
   "name": "fetch_and_parcellate_neurosynth.ipynb",
   "provenance": []
  },
  "kernelspec": {
   "display_name": "Python [conda env:tractmaps]",
   "language": "python",
   "name": "conda-env-tractmaps-py"
  },
  "language_info": {
   "codemirror_mode": {
    "name": "ipython",
    "version": 3
   },
   "file_extension": ".py",
   "mimetype": "text/x-python",
   "name": "python",
   "nbconvert_exporter": "python",
   "pygments_lexer": "ipython3",
   "version": "3.8.17"
  }
 },
 "nbformat": 4,
 "nbformat_minor": 4
}
